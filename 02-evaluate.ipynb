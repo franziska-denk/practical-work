{
 "cells": [
  {
   "cell_type": "code",
   "execution_count": 1,
   "metadata": {},
   "outputs": [],
   "source": [
    "import sys\n",
    "sys.path.insert(0, \"./src/\")\n",
    "\n",
    "from test import test"
   ]
  },
  {
   "cell_type": "markdown",
   "metadata": {},
   "source": [
    "# 02 - Evaluation trained models"
   ]
  },
  {
   "cell_type": "markdown",
   "metadata": {},
   "source": [
    "## 02.1 Evaluate trained models"
   ]
  },
  {
   "cell_type": "markdown",
   "metadata": {},
   "source": [
    "### Summary \n",
    "\n",
    "Robust accuracy is evaluated using an adversary with $\\epsilon=0.5$, $\\alpha=0.1$ and $\\textrm{steps}=7$.\n",
    "\n",
    "<table>\n",
    "<center>\n",
    "  <tr>\n",
    "    <td></td>\n",
    "    <td colspan=\"2\"><b>Ilyas et al.</b></td>\n",
    "    <td colspan=\"2\"><b>This Work</b></td>\n",
    "  </tr>\n",
    "  <tr>\n",
    "    <td><b>Training Method</b></td>\n",
    "    <td><b>Standard Test Acc. (%)</b></td>\n",
    "    <td><b>Robust Test Acc. (%)</b></td>\n",
    "    <td><b>Standard Test Acc. (%)</b></td>\n",
    "    <td><b>Robust Test Acc. (%)</b></td>\n",
    "  </tr>\n",
    "  <tr>\n",
    "    <td>Standard Train on D</td>\n",
    "    <td>95.25</td>\n",
    "    <td>0.0</td>\n",
    "    <td>82.41</td>\n",
    "    <td>15.14</td>\n",
    "  </tr>\n",
    "  <tr>\n",
    "    <td>Robust Train on D</td>\n",
    "    <td>90.83</td>\n",
    "    <td>70.90</td>\n",
    "    <td>76.37</td>\n",
    "    <td>51.27</td>\n",
    "  </tr>\n",
    "  <tr>\n",
    "    <td>Standard Train on Dr</td>\n",
    "    <td>85.40</td>\n",
    "    <td>21.85</td>\n",
    "    <td>69.41</td>\n",
    "    <td>24.43</td>\n",
    "  </tr>\n",
    "  <tr>\n",
    "    <td>Standard Train on Dnr</td>\n",
    "    <td>87.68</td>\n",
    "    <td>0.0</td>\n",
    "    <td>67.11</td>\n",
    "    <td>0.88</td>\n",
    "  </tr>\n",
    "  <tr>\n",
    "    <td>Standard Train on Ddet (using standard model)</td>\n",
    "    <td>43.7</td>\n",
    "    <td>-</td>\n",
    "    <td>33.1</td>\n",
    "    <td>-</td>\n",
    "  </tr>\n",
    "  <tr>\n",
    "    <td>Standard Train on Drand (using standard model)</td>\n",
    "    <td>63.3</td>\n",
    "    <td>-</td>\n",
    "    <td>40.1</td>\n",
    "    <td>-</td>\n",
    "  </tr>\n",
    "    <tr>\n",
    "  <td>Standard Train on Ddet (using robust model)</td>\n",
    "    <td>5.8</td>\n",
    "    <td>-</td>\n",
    "    <td>46.0</td>\n",
    "    <td>-</td>\n",
    "  </tr>\n",
    "  <tr>\n",
    "    <td>Standard Train on Drand (using robust model)</td>\n",
    "    <td>25.2</td>\n",
    "    <td>-</td>\n",
    "    <td>46.0</td>\n",
    "    <td>-</td>\n",
    "  </tr>\n",
    "</center>\n",
    "</table>"
   ]
  },
  {
   "cell_type": "code",
   "execution_count": 2,
   "metadata": {},
   "outputs": [],
   "source": [
    "v = \"v7\""
   ]
  },
  {
   "cell_type": "markdown",
   "metadata": {},
   "source": [
    "### Evaluate standard model"
   ]
  },
  {
   "cell_type": "code",
   "execution_count": 3,
   "metadata": {},
   "outputs": [
    {
     "name": "stdout",
     "output_type": "stream",
     "text": [
      "Files already downloaded and verified\n",
      "Files already downloaded and verified\n",
      "Initialized everything, starting testing...\n",
      "Standard test accuracy: 0.8241\n",
      "Adversarial test accuracy: 0.1514\n"
     ]
    }
   ],
   "source": [
    "test(f\"standard_d_{v}/best.pt\")"
   ]
  },
  {
   "cell_type": "markdown",
   "metadata": {},
   "source": [
    "Assure that adversarial performance against a stronger adversary is worse."
   ]
  },
  {
   "cell_type": "code",
   "execution_count": 4,
   "metadata": {},
   "outputs": [
    {
     "name": "stdout",
     "output_type": "stream",
     "text": [
      "Files already downloaded and verified\n",
      "Files already downloaded and verified\n",
      "Initialized everything, starting testing...\n",
      "Standard test accuracy: 0.8241\n",
      "Adversarial test accuracy: 0.0353\n"
     ]
    }
   ],
   "source": [
    "test(f\"standard_d_{v}/best.pt\", adversary_steps=10, adversary_epsilon=0.8)"
   ]
  },
  {
   "cell_type": "markdown",
   "metadata": {},
   "source": [
    "### Evaluate robust model"
   ]
  },
  {
   "cell_type": "code",
   "execution_count": 5,
   "metadata": {},
   "outputs": [
    {
     "name": "stdout",
     "output_type": "stream",
     "text": [
      "Files already downloaded and verified\n",
      "Files already downloaded and verified\n",
      "Initialized everything, starting testing...\n",
      "Standard test accuracy: 0.7637\n",
      "Adversarial test accuracy: 0.5127\n"
     ]
    }
   ],
   "source": [
    "test(f\"robust_d_{v}/best.pt\")"
   ]
  },
  {
   "cell_type": "code",
   "execution_count": 6,
   "metadata": {},
   "outputs": [
    {
     "name": "stdout",
     "output_type": "stream",
     "text": [
      "Files already downloaded and verified\n",
      "Files already downloaded and verified\n",
      "Initialized everything, starting testing...\n",
      "Standard test accuracy: 0.7637\n",
      "Adversarial test accuracy: 0.362\n"
     ]
    }
   ],
   "source": [
    "test(f\"robust_d_{v}/best.pt\", adversary_steps=10, adversary_epsilon=0.8)"
   ]
  },
  {
   "cell_type": "markdown",
   "metadata": {},
   "source": [
    "### Evaluate models trained on Dr & Dnr"
   ]
  },
  {
   "cell_type": "markdown",
   "metadata": {},
   "source": [
    "Note the improved adversarial accuracy althought only standard training was performed."
   ]
  },
  {
   "cell_type": "code",
   "execution_count": 7,
   "metadata": {},
   "outputs": [
    {
     "name": "stdout",
     "output_type": "stream",
     "text": [
      "Files already downloaded and verified\n",
      "Files already downloaded and verified\n",
      "Initialized everything, starting testing...\n",
      "Standard test accuracy: 0.6941\n",
      "Adversarial test accuracy: 0.2443\n"
     ]
    }
   ],
   "source": [
    "test(f\"standard_dr_{v}/best.pt\")"
   ]
  },
  {
   "cell_type": "markdown",
   "metadata": {},
   "source": [
    "In constrast, standard training on Dnr yields no adversarial accuracy at all."
   ]
  },
  {
   "cell_type": "code",
   "execution_count": 8,
   "metadata": {},
   "outputs": [
    {
     "name": "stdout",
     "output_type": "stream",
     "text": [
      "Files already downloaded and verified\n",
      "Files already downloaded and verified\n",
      "Initialized everything, starting testing...\n",
      "Standard test accuracy: 0.6711\n",
      "Adversarial test accuracy: 0.0088\n"
     ]
    }
   ],
   "source": [
    "test(f\"standard_dnr_{v}/best.pt\")"
   ]
  },
  {
   "cell_type": "markdown",
   "metadata": {},
   "source": [
    "### Evaluate models trained on Ddet & Drand"
   ]
  },
  {
   "cell_type": "markdown",
   "metadata": {},
   "source": [
    "Note the non-trivial standard accuracy that is achieved by training only on non-robust features."
   ]
  },
  {
   "cell_type": "code",
   "execution_count": 9,
   "metadata": {},
   "outputs": [
    {
     "name": "stdout",
     "output_type": "stream",
     "text": [
      "Files already downloaded and verified\n",
      "Files already downloaded and verified\n",
      "Initialized everything, starting testing...\n",
      "Standard test accuracy: 0.331\n",
      "Adversarial test accuracy: 0.0003\n"
     ]
    }
   ],
   "source": [
    "test(f\"standard_ddet_{v}/best.pt\")"
   ]
  },
  {
   "cell_type": "code",
   "execution_count": 10,
   "metadata": {},
   "outputs": [
    {
     "name": "stdout",
     "output_type": "stream",
     "text": [
      "Files already downloaded and verified\n",
      "Files already downloaded and verified\n",
      "Initialized everything, starting testing...\n",
      "Standard test accuracy: 0.401\n",
      "Adversarial test accuracy: 0.0011\n"
     ]
    }
   ],
   "source": [
    "test(f\"standard_drand_{v}/best.pt\")"
   ]
  },
  {
   "cell_type": "markdown",
   "metadata": {},
   "source": [
    "As sanity check, observe that when using data, that was extracted by finding non-robust features from the robust model, such non-trivial accuracy cannot be attained."
   ]
  },
  {
   "cell_type": "code",
   "execution_count": 11,
   "metadata": {},
   "outputs": [
    {
     "name": "stdout",
     "output_type": "stream",
     "text": [
      "Files already downloaded and verified\n",
      "Files already downloaded and verified\n",
      "Initialized everything, starting testing...\n",
      "Standard test accuracy: 0.4616\n",
      "Adversarial test accuracy: 0.0234\n"
     ]
    }
   ],
   "source": [
    "test(f\"standard_drand_robust_{v}/best.pt\")"
   ]
  },
  {
   "cell_type": "code",
   "execution_count": 12,
   "metadata": {},
   "outputs": [
    {
     "name": "stdout",
     "output_type": "stream",
     "text": [
      "Files already downloaded and verified\n",
      "Files already downloaded and verified\n",
      "Initialized everything, starting testing...\n",
      "Standard test accuracy: 0.4656\n",
      "Adversarial test accuracy: 0.0312\n"
     ]
    }
   ],
   "source": [
    "test(f\"standard_ddet_robust_{v}/best.pt\")"
   ]
  },
  {
   "cell_type": "markdown",
   "metadata": {},
   "source": [
    "## 02.2 Evaluate modified data"
   ]
  },
  {
   "cell_type": "code",
   "execution_count": 13,
   "metadata": {},
   "outputs": [],
   "source": [
    "import glob\n",
    "import pickle\n",
    "import os\n",
    "import numpy as np\n",
    "import matplotlib.pyplot as plt\n",
    "from PIL import Image\n",
    "\n",
    "classes = ('plane', 'car', 'bird', 'cat',\n",
    "            'deer', 'dog', 'frog', 'horse', 'ship', 'truck')"
   ]
  },
  {
   "cell_type": "markdown",
   "metadata": {},
   "source": [
    "As for Ilyas et al., the $\\mathcal{D_{NR}}$ images tend to resemble more the source image than the target image."
   ]
  },
  {
   "cell_type": "code",
   "execution_count": 14,
   "metadata": {},
   "outputs": [
    {
     "name": "stdout",
     "output_type": "stream",
     "text": [
      "deer\n"
     ]
    },
    {
     "data": {
      "image/png": "[encoded data removed]",
      "text/plain": [
       "<Figure size 640x480 with 1 Axes>"
      ]
     },
     "metadata": {},
     "output_type": "display_data"
    }
   ],
   "source": [
    "data_path = \"./data/d_nr/\"\n",
    "with open(os.path.join(data_path, \"labels.pkl\"), \"rb\") as file:\n",
    "    labels = pickle.load(file)\n",
    "imgs = glob.glob(os.path.join(data_path, \"img\", \"*.jpg\"))\n",
    "rand_idx = np.random.randint(low=0, high=len(imgs)-1)\n",
    "img = np.array(Image.open(imgs[rand_idx]))\n",
    "\n",
    "plt.imshow(img)\n",
    "print(f\"{classes[labels[rand_idx]]}\")"
   ]
  },
  {
   "cell_type": "code",
   "execution_count": 15,
   "metadata": {},
   "outputs": [
    {
     "name": "stdout",
     "output_type": "stream",
     "text": [
      "ship\n"
     ]
    },
    {
     "data": {
      "image/png": "[encoded data removed]",
      "text/plain": [
       "<Figure size 640x480 with 1 Axes>"
      ]
     },
     "metadata": {},
     "output_type": "display_data"
    }
   ],
   "source": [
    "data_path = \"./data/d_r/\"\n",
    "with open(os.path.join(data_path, \"labels.pkl\"), \"rb\") as file:\n",
    "    labels = pickle.load(file)\n",
    "imgs = glob.glob(os.path.join(data_path, \"img\", \"*.jpg\"))\n",
    "rand_idx = np.random.randint(low=0, high=len(imgs)-1)\n",
    "img = np.array(Image.open(imgs[rand_idx]))\n",
    "\n",
    "plt.imshow(img)\n",
    "print(f\"{classes[labels[rand_idx]]}\")"
   ]
  },
  {
   "cell_type": "code",
   "execution_count": 16,
   "metadata": {},
   "outputs": [
    {
     "name": "stdout",
     "output_type": "stream",
     "text": [
      "car\n"
     ]
    },
    {
     "data": {
      "image/png": "[encoded data removed]",
      "text/plain": [
       "<Figure size 640x480 with 1 Axes>"
      ]
     },
     "metadata": {},
     "output_type": "display_data"
    }
   ],
   "source": [
    "data_path = \"./data/d_det/\"\n",
    "with open(os.path.join(data_path, \"labels.pkl\"), \"rb\") as file:\n",
    "    labels = pickle.load(file)\n",
    "imgs = glob.glob(os.path.join(data_path, \"img\", \"*.jpg\"))\n",
    "rand_idx = np.random.randint(low=0, high=len(imgs)-1)\n",
    "img = np.array(Image.open(imgs[rand_idx]))\n",
    "\n",
    "plt.imshow(img)\n",
    "print(f\"{classes[labels[rand_idx]]}\")"
   ]
  },
  {
   "cell_type": "code",
   "execution_count": 17,
   "metadata": {},
   "outputs": [
    {
     "name": "stdout",
     "output_type": "stream",
     "text": [
      "car\n"
     ]
    },
    {
     "data": {
      "image/png": "[encoded data removed]",
      "text/plain": [
       "<Figure size 640x480 with 1 Axes>"
      ]
     },
     "metadata": {},
     "output_type": "display_data"
    }
   ],
   "source": [
    "data_path = \"./data/d_rand/\"\n",
    "with open(os.path.join(data_path, \"labels.pkl\"), \"rb\") as file:\n",
    "    labels = pickle.load(file)\n",
    "imgs = glob.glob(os.path.join(data_path, \"img\", \"*.jpg\"))\n",
    "rand_idx = np.random.randint(low=0, high=len(imgs)-1)\n",
    "img = np.array(Image.open(imgs[rand_idx]))\n",
    "\n",
    "plt.imshow(img)\n",
    "print(f\"{classes[labels[rand_idx]]}\")"
   ]
  }
 ],
 "metadata": {
  "kernelspec": {
   "display_name": "practical_work",
   "language": "python",
   "name": "python3"
  },
  "language_info": {
   "codemirror_mode": {
    "name": "ipython",
    "version": 3
   },
   "file_extension": ".py",
   "mimetype": "text/x-python",
   "name": "python",
   "nbconvert_exporter": "python",
   "pygments_lexer": "ipython3",
   "version": "3.11.5"
  }
 },
 "nbformat": 4,
 "nbformat_minor": 2
}
