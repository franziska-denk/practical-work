{
 "cells": [
  {
   "cell_type": "code",
   "execution_count": 1,
   "metadata": {},
   "outputs": [],
   "source": [
    "import sys\n",
    "sys.path.insert(0, \"./src/\")"
   ]
  },
  {
   "cell_type": "markdown",
   "metadata": {},
   "source": [
    "# 00-Sanity-checks"
   ]
  },
  {
   "cell_type": "markdown",
   "metadata": {},
   "source": [
    "Run sanity checks for attacks and data modification."
   ]
  },
  {
   "cell_type": "code",
   "execution_count": 13,
   "metadata": {},
   "outputs": [],
   "source": [
    "import tqdm\n",
    "import os\n",
    "\n",
    "import torch\n",
    "import torchvision\n",
    "import torch.nn as nn\n",
    "import matplotlib.pyplot as plt\n",
    "\n",
    "from src.utils.data_utils import get_cifar10_data\n",
    "from src.utils.adversary_utils import adv_attack\n",
    "from src.utils.vis_utils import vis_pred"
   ]
  },
  {
   "cell_type": "code",
   "execution_count": 3,
   "metadata": {},
   "outputs": [
    {
     "name": "stdout",
     "output_type": "stream",
     "text": [
      "Downloading https://www.cs.toronto.edu/~kriz/cifar-10-python.tar.gz to ./data\\cifar-10-python.tar.gz\n"
     ]
    },
    {
     "name": "stderr",
     "output_type": "stream",
     "text": [
      "100%|██████████| 170498071/170498071 [09:53<00:00, 287130.67it/s] \n"
     ]
    },
    {
     "name": "stdout",
     "output_type": "stream",
     "text": [
      "Extracting ./data\\cifar-10-python.tar.gz to ./data\n",
      "Files already downloaded and verified\n"
     ]
    }
   ],
   "source": [
    "data = get_cifar10_data(1, img_size=32, subsample=True)"
   ]
  },
  {
   "cell_type": "code",
   "execution_count": 5,
   "metadata": {},
   "outputs": [],
   "source": [
    "classes = data[\"classes\"]\n",
    "_, test_loader = data[\"test\"]"
   ]
  },
  {
   "cell_type": "code",
   "execution_count": 6,
   "metadata": {},
   "outputs": [],
   "source": [
    "model = torchvision.models.resnet50()\n",
    "model.fc = nn.Linear(2048, len(classes))\n",
    "model.load_state_dict(torch.load(os.path.join(r\"ckpts\\standard_d_v7\\best.pt\")))\n",
    "model.to(\"cuda\");\n",
    "model.eval();"
   ]
  },
  {
   "cell_type": "markdown",
   "metadata": {},
   "source": [
    "## 1. Closer look at attack"
   ]
  },
  {
   "cell_type": "code",
   "execution_count": 17,
   "metadata": {},
   "outputs": [
    {
     "name": "stdout",
     "output_type": "stream",
     "text": [
      "True label:  dog\n",
      "Prediction after adv attack 1:  frog\n"
     ]
    },
    {
     "data": {
      "image/png": "[encoded data removed]",
      "text/plain": [
       "<Figure size 640x480 with 1 Axes>"
      ]
     },
     "metadata": {},
     "output_type": "display_data"
    }
   ],
   "source": [
    "for batch in test_loader:\n",
    "    res = adv_attack(batch, model, nn.CrossEntropyLoss(), epsilon=0.5, steps=10, alpha=0.1)\n",
    "    true_y = batch[1]\n",
    "    adv = model(res[0].to(\"cuda\")).argmax(1)\n",
    "    img_whc = res[0].squeeze().numpy().transpose(1,2,0)\n",
    "    plt.imshow(img_whc)\n",
    "    print(\"True label: \", classes[true_y])\n",
    "    print(\"Prediction after adv attack 1: \", classes[adv])\n",
    "    break"
   ]
  },
  {
   "cell_type": "code",
   "execution_count": 19,
   "metadata": {},
   "outputs": [
    {
     "name": "stdout",
     "output_type": "stream",
     "text": [
      "True label:  dog\n",
      "Prediction after adv attack 1:  cat\n"
     ]
    },
    {
     "data": {
      "image/png": "[encoded data removed]",
      "text/plain": [
       "<Figure size 640x480 with 1 Axes>"
      ]
     },
     "metadata": {},
     "output_type": "display_data"
    }
   ],
   "source": [
    "for batch in test_loader:\n",
    "    res = adv_attack(batch, model, nn.CrossEntropyLoss(), epsilon=1, steps=20, alpha=0.1)\n",
    "    true_y = batch[1]\n",
    "    adv = model(res[0].to(\"cuda\")).argmax(1)\n",
    "    img_whc = res[0].squeeze().numpy().transpose(1,2,0)\n",
    "    plt.imshow(img_whc)\n",
    "    print(\"True label: \", classes[true_y])\n",
    "    print(\"Prediction after adv attack 1: \", classes[adv])\n",
    "    break"
   ]
  },
  {
   "cell_type": "markdown",
   "metadata": {},
   "source": [
    "## 2. Compare prediction of model before and after attack"
   ]
  },
  {
   "cell_type": "code",
   "execution_count": 20,
   "metadata": {},
   "outputs": [
    {
     "name": "stderr",
     "output_type": "stream",
     "text": [
      "100%|██████████| 2500/2500 [06:41<00:00,  6.22it/s]\n"
     ]
    },
    {
     "name": "stdout",
     "output_type": "stream",
     "text": [
      "tensor([[ 374., 1675.],\n",
      "        [   0.,  451.]])\n"
     ]
    }
   ],
   "source": [
    "# [[cor_bef_cor_after, cor_before_wrong_after],\n",
    "#  [wrong_before_cor_after, wrong_before_wrong_after]]\n",
    "conf_ma = torch.zeros((2,2)) \n",
    "for batch in tqdm.tqdm(test_loader):\n",
    "    x, y = batch[0], batch[1].item()\n",
    "    pred = model(x.to(\"cuda\")).argmax(1).item()\n",
    "    adv_batch = adv_attack(batch, model, nn.CrossEntropyLoss(), epsilon=0.5, steps=7, alpha=0.1)\n",
    "    pred_adv = model(adv_batch[0].to(\"cuda\")).argmax(1).item()\n",
    "    if (y==pred) and (y==pred_adv):\n",
    "        conf_ma[0,0] +=1\n",
    "    elif (y==pred) and (y!=pred_adv):\n",
    "        conf_ma[0,1] +=1\n",
    "    elif (y!=pred) and (y==pred_adv):\n",
    "        conf_ma[1, 0] += 1\n",
    "    else:\n",
    "        conf_ma[1, 1] += 1\n",
    "    \n",
    "print(conf_ma)"
   ]
  },
  {
   "cell_type": "markdown",
   "metadata": {},
   "source": [
    "## 3. Make sure pertubations only are in epsilon norm range"
   ]
  },
  {
   "cell_type": "code",
   "execution_count": 21,
   "metadata": {},
   "outputs": [
    {
     "name": "stderr",
     "output_type": "stream",
     "text": [
      "100%|██████████| 2500/2500 [06:04<00:00,  6.87it/s]\n",
      "100%|██████████| 2500/2500 [05:57<00:00,  6.99it/s]\n",
      "100%|██████████| 2500/2500 [05:58<00:00,  6.97it/s]\n",
      "100%|██████████| 3/3 [18:00<00:00, 360.13s/it]"
     ]
    },
    {
     "name": "stdout",
     "output_type": "stream",
     "text": [
      "All modifications are within maximum allowed norm.\n"
     ]
    },
    {
     "name": "stderr",
     "output_type": "stream",
     "text": [
      "\n"
     ]
    }
   ],
   "source": [
    "for eps in tqdm.tqdm([0.5, 1, 5]):\n",
    "    for batch in tqdm.tqdm(test_loader):\n",
    "        x = batch[0]\n",
    "        adv_batch = adv_attack(batch, model, nn.CrossEntropyLoss(), epsilon=eps, steps=7, alpha=0.1)\n",
    "        assert((x-adv_batch[0]).norm(p=2) <= eps + 1e-6)\n",
    "print(\"All modifications are within maximum allowed norm.\")"
   ]
  }
 ],
 "metadata": {
  "kernelspec": {
   "display_name": "practical_work",
   "language": "python",
   "name": "python3"
  },
  "language_info": {
   "codemirror_mode": {
    "name": "ipython",
    "version": 3
   },
   "file_extension": ".py",
   "mimetype": "text/x-python",
   "name": "python",
   "nbconvert_exporter": "python",
   "pygments_lexer": "ipython3",
   "version": "3.11.5"
  }
 },
 "nbformat": 4,
 "nbformat_minor": 2
}
