{
 "cells": [
  {
   "cell_type": "code",
   "execution_count": 1,
   "metadata": {},
   "outputs": [],
   "source": [
    "import sys\n",
    "sys.path.insert(0, \"./src/\")"
   ]
  },
  {
   "cell_type": "markdown",
   "metadata": {},
   "source": [
    "# 00-Sanity-checks"
   ]
  },
  {
   "cell_type": "markdown",
   "metadata": {},
   "source": [
    "Run sanity checks for attacks and data modification."
   ]
  },
  {
   "cell_type": "code",
   "execution_count": 8,
   "metadata": {},
   "outputs": [],
   "source": [
    "import tqdm\n",
    "import os\n",
    "\n",
    "import numpy as np\n",
    "import torch\n",
    "import torchvision\n",
    "import torch.nn as nn\n",
    "import matplotlib.pyplot as plt\n",
    "\n",
    "from src.utils.data_utils import get_cifar10_data\n",
    "from src.utils.adversary_utils import adv_attack\n",
    "from src.utils.vis_utils import vis_pred\n",
    "\n",
    "torch.manual_seed(0)\n",
    "torch.backends.cudnn.deterministic = True"
   ]
  },
  {
   "cell_type": "code",
   "execution_count": 4,
   "metadata": {},
   "outputs": [
    {
     "name": "stdout",
     "output_type": "stream",
     "text": [
      "Files already downloaded and verified\n",
      "Files already downloaded and verified\n"
     ]
    }
   ],
   "source": [
    "data = get_cifar10_data(32, img_size=32, subsample=True)\n",
    "classes = data[\"classes\"]\n",
    "_, val_laoder = data[\"val\"]\n",
    "_, test_loader = data[\"test\"]"
   ]
  },
  {
   "cell_type": "code",
   "execution_count": 5,
   "metadata": {},
   "outputs": [],
   "source": [
    "model = torchvision.models.resnet50()\n",
    "model.fc = nn.Linear(2048, len(classes))\n",
    "model.load_state_dict(torch.load(os.path.join(r\"ckpts\\standard_d_v15\\best.pt\")))\n",
    "#model.fc = nn.Identity()\n",
    "model.to(\"cuda\");\n",
    "model.eval();"
   ]
  },
  {
   "cell_type": "code",
   "execution_count": 6,
   "metadata": {},
   "outputs": [],
   "source": [
    "adversary_param_linf = {\"steps\": 1, #1000,\n",
    "                           \"epsilon\": 8/255,\n",
    "                           \"alpha\": 2/255}\n",
    "\n",
    "adversary_param_l2 = {\"steps\": 10,\n",
    "                      \"epsilon\": 0.5,\n",
    "                      \"alpha\": 0.1}\n",
    "\n",
    "adversary_param = adversary_param_linf"
   ]
  },
  {
   "cell_type": "markdown",
   "metadata": {},
   "source": [
    "## 1. Closer look at attack"
   ]
  },
  {
   "cell_type": "code",
   "execution_count": 11,
   "metadata": {},
   "outputs": [
    {
     "name": "stdout",
     "output_type": "stream",
     "text": [
      "Files already downloaded and verified\n",
      "Files already downloaded and verified\n"
     ]
    }
   ],
   "source": [
    "data = get_cifar10_data(1, img_size=32, subsample=True)\n",
    "classes = data[\"classes\"]\n",
    "_, val_laoder = data[\"val\"]\n",
    "_, test_loader = data[\"test\"]"
   ]
  },
  {
   "cell_type": "code",
   "execution_count": 12,
   "metadata": {},
   "outputs": [
    {
     "name": "stdout",
     "output_type": "stream",
     "text": [
      "Attack mode is changed to 'targeted(custom)'.\n"
     ]
    }
   ],
   "source": [
    "from torchattacks import PGDL2\n",
    "atk = PGDL2(model, eps=0.5, alpha=0.1, steps=5, random_start=False)\n",
    "atk.set_mode_targeted_by_function(target_map_function=lambda images, labels:(labels+1)%10)"
   ]
  },
  {
   "cell_type": "code",
   "execution_count": 13,
   "metadata": {},
   "outputs": [],
   "source": [
    "model = torchvision.models.resnet50()\n",
    "model.fc = nn.Linear(2048, len(classes))\n",
    "model.load_state_dict(torch.load(os.path.join(r\"ckpts\\standard_d_v9\\best.pt\")))\n",
    "model.to(\"cuda\");\n",
    "model.eval();"
   ]
  },
  {
   "cell_type": "code",
   "execution_count": 24,
   "metadata": {},
   "outputs": [
    {
     "name": "stdout",
     "output_type": "stream",
     "text": [
      "True label:  cat\n",
      "Prediced label on original image:  cat\n",
      "Prediction after adv attack 1:  dog\n"
     ]
    },
    {
     "data": {
      "image/png": "[encoded data removed]",
      "text/plain": [
       "<Figure size 640x480 with 1 Axes>"
      ]
     },
     "metadata": {},
     "output_type": "display_data"
    }
   ],
   "source": [
    "for batch in test_loader:\n",
    "    pred = model(batch[0].to(\"cuda\")).argmax(1)\n",
    "    res = adv_attack(batch, model, nn.CrossEntropyLoss(), epsilon=0.5, steps=10, alpha=0.1)\n",
    "    true_y = batch[1]\n",
    "    adv = model(res[0].to(\"cuda\")).argmax(1)\n",
    "    img_whc = res[0].squeeze().numpy().transpose(1,2,0)\n",
    "    plt.imshow(img_whc)\n",
    "    print(\"True label: \", classes[true_y])\n",
    "    print(\"Prediced label on original image: \", classes[pred])\n",
    "    print(\"Prediction after adv attack 1: \", classes[adv])\n",
    "    break"
   ]
  },
  {
   "cell_type": "code",
   "execution_count": 23,
   "metadata": {},
   "outputs": [
    {
     "name": "stdout",
     "output_type": "stream",
     "text": [
      "True label:  cat\n",
      "Prediction after adv attack 1:  dog\n"
     ]
    },
    {
     "data": {
      "image/png": "[encoded data removed]",
      "text/plain": [
       "<Figure size 640x480 with 1 Axes>"
      ]
     },
     "metadata": {},
     "output_type": "display_data"
    }
   ],
   "source": [
    "for batch in test_loader:\n",
    "    res = adv_attack(batch, model, nn.CrossEntropyLoss(), epsilon=1, steps=20, alpha=0.1)\n",
    "    true_y = batch[1]\n",
    "    adv = model(res[0].to(\"cuda\")).argmax(1)\n",
    "    img_whc = res[0].squeeze().numpy().transpose(1,2,0)\n",
    "    plt.imshow(img_whc)\n",
    "    print(\"True label: \", classes[true_y])\n",
    "    print(\"Prediction after adv attack 1: \", classes[adv])\n",
    "    break"
   ]
  },
  {
   "cell_type": "markdown",
   "metadata": {},
   "source": [
    "## 2. Compare prediction of model before and after attack"
   ]
  },
  {
   "cell_type": "code",
   "execution_count": 44,
   "metadata": {},
   "outputs": [
    {
     "name": "stdout",
     "output_type": "stream",
     "text": [
      "Files already downloaded and verified\n",
      "Files already downloaded and verified\n"
     ]
    }
   ],
   "source": [
    "data = get_cifar10_data(1, img_size=32, subsample=True)\n",
    "classes = data[\"classes\"]\n",
    "_, val_laoder = data[\"val\"]\n",
    "_, test_loader = data[\"test\"]"
   ]
  },
  {
   "cell_type": "code",
   "execution_count": 45,
   "metadata": {},
   "outputs": [],
   "source": [
    "model = torchvision.models.resnet50()\n",
    "model.fc = nn.Linear(2048, len(classes))\n",
    "model.load_state_dict(torch.load(os.path.join(r\"ckpts\\standard_d_v15\\best.pt\")))\n",
    "model.to(\"cuda\");\n",
    "model.eval();"
   ]
  },
  {
   "cell_type": "markdown",
   "metadata": {},
   "source": [
    "#### Untargeted L-infinity Attack"
   ]
  },
  {
   "cell_type": "code",
   "execution_count": 27,
   "metadata": {},
   "outputs": [
    {
     "name": "stderr",
     "output_type": "stream",
     "text": [
      "100%|██████████| 2500/2500 [06:05<00:00,  6.83it/s]"
     ]
    },
    {
     "name": "stdout",
     "output_type": "stream",
     "text": [
      "tensor([[  11., 2125.],\n",
      "        [   0.,  364.]])\n"
     ]
    },
    {
     "name": "stderr",
     "output_type": "stream",
     "text": [
      "\n"
     ]
    }
   ],
   "source": [
    "from torchattacks import PGD\n",
    "\n",
    "atk = PGD(model, eps=8/255, alpha=2/225, steps=7, random_start=False)\n",
    "\n",
    "conf_ma = torch.zeros((2,2)) \n",
    "for batch in tqdm.tqdm(test_loader):\n",
    "    x, y = batch[0], batch[1].item()\n",
    "    pred = model(x.to(\"cuda\")).argmax(1).item()\n",
    "    adv_batch = atk(batch[0], batch[1])\n",
    "    pred_adv = model(adv_batch[0].unsqueeze(0).to(\"cuda\")).argmax(1).item()\n",
    "    if (y==pred) and (y==pred_adv):\n",
    "        conf_ma[0,0] +=1\n",
    "    elif (y==pred) and (y!=pred_adv):\n",
    "        conf_ma[0,1] +=1\n",
    "    elif (y!=pred) and (y==pred_adv):\n",
    "        conf_ma[1, 0] += 1\n",
    "    else:\n",
    "        conf_ma[1, 1] += 1\n",
    "    \n",
    "print(conf_ma)"
   ]
  },
  {
   "cell_type": "code",
   "execution_count": 28,
   "metadata": {},
   "outputs": [
    {
     "name": "stderr",
     "output_type": "stream",
     "text": [
      "100%|██████████| 2500/2500 [05:26<00:00,  7.66it/s]"
     ]
    },
    {
     "name": "stdout",
     "output_type": "stream",
     "text": [
      "tensor([[  12., 2124.],\n",
      "        [   0.,  364.]])\n"
     ]
    },
    {
     "name": "stderr",
     "output_type": "stream",
     "text": [
      "\n"
     ]
    }
   ],
   "source": [
    "from captum.robust import PGD\n",
    "# [[cor_bef_cor_after, cor_before_wrong_after],\n",
    "#  [wrong_before_cor_after, wrong_before_wrong_after]]\n",
    "conf_ma = torch.zeros((2,2)) \n",
    "pgd = PGD(model, nn.CrossEntropyLoss(reduction=\"none\"), lower_bound=0, upper_bound=1)\n",
    "for batch in tqdm.tqdm(test_loader):\n",
    "    x, y = batch[0].to(\"cuda\"), batch[1].to(\"cuda\")\n",
    "    pred = model(x.to(\"cuda\")).argmax(1).item()\n",
    "    adv_batch = pgd.perturb(x, radius=8/255, step_size=2/255, step_num=7, target=y)\n",
    "    pred_adv = model(adv_batch.to(\"cuda\")).argmax(1).item()\n",
    "    if (y==pred) and (y==pred_adv):\n",
    "        conf_ma[0,0] +=1\n",
    "    elif (y==pred) and (y!=pred_adv):\n",
    "        conf_ma[0,1] +=1\n",
    "    elif (y!=pred) and (y==pred_adv):\n",
    "        conf_ma[1, 0] += 1\n",
    "    else:\n",
    "        conf_ma[1, 1] += 1\n",
    "    \n",
    "print(conf_ma)"
   ]
  },
  {
   "cell_type": "code",
   "execution_count": 29,
   "metadata": {},
   "outputs": [
    {
     "name": "stderr",
     "output_type": "stream",
     "text": [
      "100%|██████████| 2500/2500 [05:58<00:00,  6.97it/s]"
     ]
    },
    {
     "name": "stdout",
     "output_type": "stream",
     "text": [
      "tensor([[  14., 2122.],\n",
      "        [   0.,  364.]])\n"
     ]
    },
    {
     "name": "stderr",
     "output_type": "stream",
     "text": [
      "\n"
     ]
    }
   ],
   "source": [
    "# [[cor_bef_cor_after, cor_before_wrong_after],\n",
    "#  [wrong_before_cor_after, wrong_before_wrong_after]]\n",
    "conf_ma = torch.zeros((2,2)) \n",
    "for batch in tqdm.tqdm(test_loader):\n",
    "    x, y = batch[0], batch[1].item()\n",
    "    pred = model(x.to(\"cuda\")).argmax(1).item()\n",
    "    adv_batch = adv_attack(batch, model, nn.CrossEntropyLoss(), epsilon=8/255, steps=7, alpha=2/255, norm=\"linf\")\n",
    "    pred_adv = model(adv_batch[0].to(\"cuda\")).argmax(1).item()\n",
    "    if (y==pred) and (y==pred_adv):\n",
    "        conf_ma[0,0] +=1\n",
    "    elif (y==pred) and (y!=pred_adv):\n",
    "        conf_ma[0,1] +=1\n",
    "    elif (y!=pred) and (y==pred_adv):\n",
    "        conf_ma[1, 0] += 1\n",
    "    else:\n",
    "        conf_ma[1, 1] += 1\n",
    "    \n",
    "print(conf_ma)"
   ]
  },
  {
   "cell_type": "markdown",
   "metadata": {},
   "source": [
    "#### Untargted L-2 attack"
   ]
  },
  {
   "cell_type": "code",
   "execution_count": 30,
   "metadata": {},
   "outputs": [
    {
     "name": "stderr",
     "output_type": "stream",
     "text": [
      "100%|██████████| 2500/2500 [05:19<00:00,  7.84it/s]"
     ]
    },
    {
     "name": "stdout",
     "output_type": "stream",
     "text": [
      "tensor([[ 290., 1846.],\n",
      "        [   0.,  364.]])\n"
     ]
    },
    {
     "name": "stderr",
     "output_type": "stream",
     "text": [
      "\n"
     ]
    }
   ],
   "source": [
    "from torchattacks import PGDL2\n",
    "\n",
    "atk = PGDL2(model, eps=0.5, steps=7, alpha=0.1, random_start=False)\n",
    "conf_ma = torch.zeros((2,2)) \n",
    "for batch in tqdm.tqdm(test_loader):\n",
    "    x, y = batch[0], batch[1].item()\n",
    "    pred = model(x.to(\"cuda\")).argmax(1).item()\n",
    "    adv_batch = atk(batch[0], batch[1])\n",
    "    pred_adv = model(adv_batch[0].unsqueeze(0).to(\"cuda\")).argmax(1).item()\n",
    "    if (y==pred) and (y==pred_adv):\n",
    "        conf_ma[0,0] +=1\n",
    "    elif (y==pred) and (y!=pred_adv):\n",
    "        conf_ma[0,1] +=1\n",
    "    elif (y!=pred) and (y==pred_adv):\n",
    "        conf_ma[1, 0] += 1\n",
    "    else:\n",
    "        conf_ma[1, 1] += 1\n",
    "    \n",
    "print(conf_ma)"
   ]
  },
  {
   "cell_type": "code",
   "execution_count": 31,
   "metadata": {},
   "outputs": [
    {
     "name": "stderr",
     "output_type": "stream",
     "text": [
      "100%|██████████| 2500/2500 [05:23<00:00,  7.73it/s]"
     ]
    },
    {
     "name": "stdout",
     "output_type": "stream",
     "text": [
      "tensor([[ 343., 1793.],\n",
      "        [   0.,  364.]])\n"
     ]
    },
    {
     "name": "stderr",
     "output_type": "stream",
     "text": [
      "\n"
     ]
    }
   ],
   "source": [
    "from torchattacks import PGDL2\n",
    "\n",
    "atk = PGDL2(model, eps=0.5, steps=7, alpha=0.1, random_start=True)\n",
    "conf_ma = torch.zeros((2,2)) \n",
    "for batch in tqdm.tqdm(test_loader):\n",
    "    x, y = batch[0], batch[1].item()\n",
    "    pred = model(x.to(\"cuda\")).argmax(1).item()\n",
    "    adv_batch = atk(batch[0], batch[1])\n",
    "    pred_adv = model(adv_batch[0].unsqueeze(0).to(\"cuda\")).argmax(1).item()\n",
    "    if (y==pred) and (y==pred_adv):\n",
    "        conf_ma[0,0] +=1\n",
    "    elif (y==pred) and (y!=pred_adv):\n",
    "        conf_ma[0,1] +=1\n",
    "    elif (y!=pred) and (y==pred_adv):\n",
    "        conf_ma[1, 0] += 1\n",
    "    else:\n",
    "        conf_ma[1, 1] += 1\n",
    "    \n",
    "print(conf_ma)"
   ]
  },
  {
   "cell_type": "code",
   "execution_count": 32,
   "metadata": {},
   "outputs": [
    {
     "name": "stderr",
     "output_type": "stream",
     "text": [
      "100%|██████████| 2500/2500 [05:22<00:00,  7.76it/s]"
     ]
    },
    {
     "name": "stdout",
     "output_type": "stream",
     "text": [
      "tensor([[ 290., 1846.],\n",
      "        [   0.,  364.]])\n"
     ]
    },
    {
     "name": "stderr",
     "output_type": "stream",
     "text": [
      "\n"
     ]
    }
   ],
   "source": [
    "# [[cor_bef_cor_after, cor_before_wrong_after],\n",
    "#  [wrong_before_cor_after, wrong_before_wrong_after]]\n",
    "conf_ma = torch.zeros((2,2)) \n",
    "for batch in tqdm.tqdm(test_loader):\n",
    "    x, y = batch[0], batch[1].item()\n",
    "    pred = model(x.to(\"cuda\")).argmax(1).item()\n",
    "    adv_batch = adv_attack(batch, model, nn.CrossEntropyLoss(), epsilon=0.5, steps=7, alpha=0.1, norm=\"l2\", random_start=False, clip_adv_input=True)\n",
    "    pred_adv = model(adv_batch[0].to(\"cuda\")).argmax(1).item()\n",
    "    if (y==pred) and (y==pred_adv):\n",
    "        conf_ma[0,0] +=1\n",
    "    elif (y==pred) and (y!=pred_adv):\n",
    "        conf_ma[0,1] +=1\n",
    "    elif (y!=pred) and (y==pred_adv):\n",
    "        conf_ma[1, 0] += 1\n",
    "    else:\n",
    "        conf_ma[1, 1] += 1\n",
    "    \n",
    "print(conf_ma)"
   ]
  },
  {
   "cell_type": "code",
   "execution_count": 46,
   "metadata": {},
   "outputs": [
    {
     "name": "stderr",
     "output_type": "stream",
     "text": [
      "100%|██████████| 2500/2500 [19:47<00:00,  2.10it/s]"
     ]
    },
    {
     "name": "stdout",
     "output_type": "stream",
     "text": [
      "tensor([[  13., 2123.],\n",
      "        [   0.,  364.]])\n"
     ]
    },
    {
     "name": "stderr",
     "output_type": "stream",
     "text": [
      "\n"
     ]
    }
   ],
   "source": [
    "# [[cor_bef_cor_after, cor_before_wrong_after],\n",
    "#  [wrong_before_cor_after, wrong_before_wrong_after]]\n",
    "conf_ma = torch.zeros((2,2)) \n",
    "for batch in tqdm.tqdm(test_loader):\n",
    "    x, y = batch[0], batch[1].item()\n",
    "    pred = model(x.to(\"cuda\")).argmax(1).item()\n",
    "    adv_batch = adv_attack(batch, model, nn.CrossEntropyLoss(), epsilon=1, steps=20, alpha=0.1, norm=\"l2\", random_start=False, clip_adv_input=True)\n",
    "    pred_adv = model(adv_batch[0].to(\"cuda\")).argmax(1).item()\n",
    "    if (y==pred) and (y==pred_adv):\n",
    "        conf_ma[0,0] +=1\n",
    "    elif (y==pred) and (y!=pred_adv):\n",
    "        conf_ma[0,1] +=1\n",
    "    elif (y!=pred) and (y==pred_adv):\n",
    "        conf_ma[1, 0] += 1\n",
    "    else:\n",
    "        conf_ma[1, 1] += 1\n",
    "    \n",
    "print(conf_ma)"
   ]
  },
  {
   "cell_type": "code",
   "execution_count": 33,
   "metadata": {},
   "outputs": [
    {
     "name": "stderr",
     "output_type": "stream",
     "text": [
      "100%|██████████| 2500/2500 [05:22<00:00,  7.75it/s]"
     ]
    },
    {
     "name": "stdout",
     "output_type": "stream",
     "text": [
      "tensor([[ 538., 1598.],\n",
      "        [   0.,  364.]])\n"
     ]
    },
    {
     "name": "stderr",
     "output_type": "stream",
     "text": [
      "\n"
     ]
    }
   ],
   "source": [
    "# [[cor_bef_cor_after, cor_before_wrong_after],\n",
    "#  [wrong_before_cor_after, wrong_before_wrong_after]]\n",
    "conf_ma = torch.zeros((2,2)) \n",
    "for batch in tqdm.tqdm(test_loader):\n",
    "    x, y = batch[0], batch[1].item()\n",
    "    pred = model(x.to(\"cuda\")).argmax(1).item()\n",
    "    adv_batch = adv_attack(batch, model, nn.CrossEntropyLoss(), epsilon=0.5, steps=7, alpha=0.1, norm=\"l2\", random_start=True, clip_adv_input=True)\n",
    "    pred_adv = model(adv_batch[0].to(\"cuda\")).argmax(1).item()\n",
    "    if (y==pred) and (y==pred_adv):\n",
    "        conf_ma[0,0] +=1\n",
    "    elif (y==pred) and (y!=pred_adv):\n",
    "        conf_ma[0,1] +=1\n",
    "    elif (y!=pred) and (y==pred_adv):\n",
    "        conf_ma[1, 0] += 1\n",
    "    else:\n",
    "        conf_ma[1, 1] += 1\n",
    "    \n",
    "print(conf_ma)"
   ]
  },
  {
   "cell_type": "markdown",
   "metadata": {},
   "source": [
    "#### Targeted attacks L-infinity attack"
   ]
  },
  {
   "cell_type": "code",
   "execution_count": 34,
   "metadata": {},
   "outputs": [
    {
     "name": "stdout",
     "output_type": "stream",
     "text": [
      "Attack mode is changed to 'targeted(custom)'.\n"
     ]
    },
    {
     "name": "stderr",
     "output_type": "stream",
     "text": [
      "100%|██████████| 2500/2500 [05:14<00:00,  7.95it/s]"
     ]
    },
    {
     "name": "stdout",
     "output_type": "stream",
     "text": [
      "tensor([[ 101., 2035.],\n",
      "        [   3.,  361.]])\n"
     ]
    },
    {
     "name": "stderr",
     "output_type": "stream",
     "text": [
      "\n"
     ]
    }
   ],
   "source": [
    "from torchattacks import PGD\n",
    "\n",
    "atk = PGD(model, eps=8/255, alpha=2/225, steps=7, random_start=False)\n",
    "atk.set_mode_targeted_by_function(target_map_function=lambda images, labels:(labels+1)%10)\n",
    "\n",
    "conf_ma = torch.zeros((2,2)) \n",
    "for batch in tqdm.tqdm(test_loader):\n",
    "    x, y = batch[0], batch[1].item()\n",
    "    pred = model(x.to(\"cuda\")).argmax(1).item()\n",
    "    adv_batch = atk(batch[0], batch[1])\n",
    "    pred_adv = model(adv_batch[0].unsqueeze(0).to(\"cuda\")).argmax(1).item()\n",
    "    if (y==pred) and (y==pred_adv):\n",
    "        conf_ma[0,0] +=1\n",
    "    elif (y==pred) and (y!=pred_adv):\n",
    "        conf_ma[0,1] +=1\n",
    "    elif (y!=pred) and (y==pred_adv):\n",
    "        conf_ma[1, 0] += 1\n",
    "    else:\n",
    "        conf_ma[1, 1] += 1\n",
    "    \n",
    "print(conf_ma)"
   ]
  },
  {
   "cell_type": "code",
   "execution_count": 35,
   "metadata": {},
   "outputs": [
    {
     "name": "stderr",
     "output_type": "stream",
     "text": [
      "100%|██████████| 2500/2500 [05:22<00:00,  7.76it/s]"
     ]
    },
    {
     "name": "stdout",
     "output_type": "stream",
     "text": [
      "tensor([[1.1600e+02, 2.0200e+03],\n",
      "        [2.0000e+00, 3.6200e+02]])\n"
     ]
    },
    {
     "name": "stderr",
     "output_type": "stream",
     "text": [
      "\n"
     ]
    }
   ],
   "source": [
    "from captum.robust import PGD\n",
    "# [[cor_bef_cor_after, cor_before_wrong_after],\n",
    "#  [wrong_before_cor_after, wrong_before_wrong_after]]\n",
    "conf_ma = torch.zeros((2,2)) \n",
    "pgd = PGD(model, nn.CrossEntropyLoss(reduction=\"none\"), lower_bound=0, upper_bound=1)\n",
    "for batch in tqdm.tqdm(test_loader):\n",
    "    x, y = batch[0].to(\"cuda\"), batch[1].to(\"cuda\")\n",
    "    pred = model(x.to(\"cuda\")).argmax(1).item()\n",
    "    adv_batch = pgd.perturb(x, radius=8/255, step_size=2/255, step_num=7, targeted=True, target=(y+1)%10)\n",
    "    pred_adv = model(adv_batch.to(\"cuda\")).argmax(1).item()\n",
    "    if (y==pred) and (y==pred_adv):\n",
    "        conf_ma[0,0] +=1\n",
    "    elif (y==pred) and (y!=pred_adv):\n",
    "        conf_ma[0,1] +=1\n",
    "    elif (y!=pred) and (y==pred_adv):\n",
    "        conf_ma[1, 0] += 1\n",
    "    else:\n",
    "        conf_ma[1, 1] += 1\n",
    "    \n",
    "print(conf_ma)"
   ]
  },
  {
   "cell_type": "code",
   "execution_count": 36,
   "metadata": {},
   "outputs": [
    {
     "name": "stderr",
     "output_type": "stream",
     "text": [
      "100%|██████████| 2500/2500 [05:15<00:00,  7.91it/s]"
     ]
    },
    {
     "name": "stdout",
     "output_type": "stream",
     "text": [
      "tensor([[ 101., 2035.],\n",
      "        [   3.,  361.]])\n"
     ]
    },
    {
     "name": "stderr",
     "output_type": "stream",
     "text": [
      "\n"
     ]
    }
   ],
   "source": [
    "conf_ma = torch.zeros((2,2)) \n",
    "for batch in tqdm.tqdm(test_loader):\n",
    "    x, y = batch[0], batch[1].item()\n",
    "    pred = model(x.to(\"cuda\")).argmax(1).item()\n",
    "    adv_batch = adv_attack(batch, model, nn.CrossEntropyLoss(), target=(batch[1]+1) % 10, epsilon=8/255, steps=7, alpha=2/225, norm=\"linf\", clip_adv_input=True)\n",
    "    pred_adv = model(adv_batch[0].to(\"cuda\")).argmax(1).item()\n",
    "    if (y==pred) and (y==pred_adv):\n",
    "        conf_ma[0,0] +=1\n",
    "    elif (y==pred) and (y!=pred_adv):\n",
    "        conf_ma[0,1] +=1\n",
    "    elif (y!=pred) and (y==pred_adv):\n",
    "        conf_ma[1, 0] += 1\n",
    "    else:\n",
    "        conf_ma[1, 1] += 1\n",
    "    \n",
    "print(conf_ma)"
   ]
  },
  {
   "cell_type": "markdown",
   "metadata": {},
   "source": [
    "#### Targeted attacks L-2 attack"
   ]
  },
  {
   "cell_type": "code",
   "execution_count": 37,
   "metadata": {},
   "outputs": [
    {
     "name": "stdout",
     "output_type": "stream",
     "text": [
      "Attack mode is changed to 'targeted(custom)'.\n"
     ]
    },
    {
     "name": "stderr",
     "output_type": "stream",
     "text": [
      "100%|██████████| 2500/2500 [05:25<00:00,  7.68it/s]"
     ]
    },
    {
     "name": "stdout",
     "output_type": "stream",
     "text": [
      "tensor([[ 832., 1304.],\n",
      "        [  15.,  349.]])\n"
     ]
    },
    {
     "name": "stderr",
     "output_type": "stream",
     "text": [
      "\n"
     ]
    }
   ],
   "source": [
    "from torchattacks import PGDL2\n",
    "\n",
    "atk = PGDL2(model, eps=0.5, steps=7, alpha=0.1, random_start=False)\n",
    "atk.set_mode_targeted_by_function(target_map_function=lambda images, labels:(labels+1)%10)\n",
    "\n",
    "conf_ma = torch.zeros((2,2)) \n",
    "for batch in tqdm.tqdm(test_loader):\n",
    "    x, y = batch[0], batch[1].item()\n",
    "    pred = model(x.to(\"cuda\")).argmax(1).item()\n",
    "    adv_batch = atk(batch[0], batch[1])\n",
    "    pred_adv = model(adv_batch[0].unsqueeze(0).to(\"cuda\")).argmax(1).item()\n",
    "    if (y==pred) and (y==pred_adv):\n",
    "        conf_ma[0,0] +=1\n",
    "    elif (y==pred) and (y!=pred_adv):\n",
    "        conf_ma[0,1] +=1\n",
    "    elif (y!=pred) and (y==pred_adv):\n",
    "        conf_ma[1, 0] += 1\n",
    "    else:\n",
    "        conf_ma[1, 1] += 1\n",
    "    \n",
    "print(conf_ma)"
   ]
  },
  {
   "cell_type": "code",
   "execution_count": 38,
   "metadata": {},
   "outputs": [
    {
     "name": "stderr",
     "output_type": "stream",
     "text": [
      "100%|██████████| 2500/2500 [05:19<00:00,  7.82it/s]"
     ]
    },
    {
     "name": "stdout",
     "output_type": "stream",
     "text": [
      "tensor([[ 832., 1304.],\n",
      "        [  15.,  349.]])\n"
     ]
    },
    {
     "name": "stderr",
     "output_type": "stream",
     "text": [
      "\n"
     ]
    }
   ],
   "source": [
    "# [[cor_bef_cor_after, cor_before_wrong_after],\n",
    "#  [wrong_before_cor_after, wrong_before_wrong_after]]\n",
    "conf_ma = torch.zeros((2,2)) \n",
    "for batch in tqdm.tqdm(test_loader):\n",
    "    x, y = batch[0], batch[1].item()\n",
    "    pred = model(x.to(\"cuda\")).argmax(1).item()\n",
    "    adv_batch = adv_attack(batch, model, nn.CrossEntropyLoss(), target=(batch[1]+1) % 10, epsilon=0.5, steps=7, alpha=0.1, norm=\"l2\", random_start=False, clip_adv_input=True)\n",
    "    pred_adv = model(adv_batch[0].to(\"cuda\")).argmax(1).item()\n",
    "    if (y==pred) and (y==pred_adv):\n",
    "        conf_ma[0,0] +=1\n",
    "    elif (y==pred) and (y!=pred_adv):\n",
    "        conf_ma[0,1] +=1\n",
    "    elif (y!=pred) and (y==pred_adv):\n",
    "        conf_ma[1, 0] += 1\n",
    "    else:\n",
    "        conf_ma[1, 1] += 1\n",
    "    \n",
    "print(conf_ma)"
   ]
  },
  {
   "cell_type": "markdown",
   "metadata": {},
   "source": [
    "Assert that it is stronger with larger epsilon."
   ]
  },
  {
   "cell_type": "code",
   "execution_count": 47,
   "metadata": {},
   "outputs": [
    {
     "name": "stdout",
     "output_type": "stream",
     "text": [
      "Attack mode is changed to 'targeted(custom)'.\n"
     ]
    },
    {
     "name": "stderr",
     "output_type": "stream",
     "text": [
      "100%|██████████| 2500/2500 [21:15<00:00,  1.96it/s]"
     ]
    },
    {
     "name": "stdout",
     "output_type": "stream",
     "text": [
      "tensor([[1.1300e+02, 2.0230e+03],\n",
      "        [1.0000e+00, 3.6300e+02]])\n"
     ]
    },
    {
     "name": "stderr",
     "output_type": "stream",
     "text": [
      "\n"
     ]
    }
   ],
   "source": [
    "from torchattacks import PGDL2\n",
    "\n",
    "atk = PGDL2(model, eps=1, steps=20, alpha=0.1, random_start=False)\n",
    "atk.set_mode_targeted_by_function(target_map_function=lambda images, labels:(labels+1)%10)\n",
    "\n",
    "conf_ma = torch.zeros((2,2)) \n",
    "for batch in tqdm.tqdm(test_loader):\n",
    "    x, y = batch[0], batch[1].item()\n",
    "    pred = model(x.to(\"cuda\")).argmax(1).item()\n",
    "    adv_batch = atk(batch[0], batch[1])\n",
    "    pred_adv = model(adv_batch[0].unsqueeze(0).to(\"cuda\")).argmax(1).item()\n",
    "    if (y==pred) and (y==pred_adv):\n",
    "        conf_ma[0,0] +=1\n",
    "    elif (y==pred) and (y!=pred_adv):\n",
    "        conf_ma[0,1] +=1\n",
    "    elif (y!=pred) and (y==pred_adv):\n",
    "        conf_ma[1, 0] += 1\n",
    "    else:\n",
    "        conf_ma[1, 1] += 1\n",
    "    \n",
    "print(conf_ma)"
   ]
  },
  {
   "cell_type": "code",
   "execution_count": 48,
   "metadata": {},
   "outputs": [
    {
     "name": "stderr",
     "output_type": "stream",
     "text": [
      "100%|██████████| 2500/2500 [21:04<00:00,  1.98it/s]"
     ]
    },
    {
     "name": "stdout",
     "output_type": "stream",
     "text": [
      "tensor([[1.1200e+02, 2.0240e+03],\n",
      "        [1.0000e+00, 3.6300e+02]])\n"
     ]
    },
    {
     "name": "stderr",
     "output_type": "stream",
     "text": [
      "\n"
     ]
    }
   ],
   "source": [
    "# [[cor_bef_cor_after, cor_before_wrong_after],\n",
    "#  [wrong_before_cor_after, wrong_before_wrong_after]]\n",
    "conf_ma = torch.zeros((2,2)) \n",
    "for batch in tqdm.tqdm(test_loader):\n",
    "    x, y = batch[0], batch[1].item()\n",
    "    pred = model(x.to(\"cuda\")).argmax(1).item()\n",
    "    adv_batch = adv_attack(batch, model, nn.CrossEntropyLoss(), target=(batch[1]+1) % 10, epsilon=1, steps=20, alpha=0.1, norm = \"l2\", clip_adv_input=True)\n",
    "    pred_adv = model(adv_batch[0].to(\"cuda\")).argmax(1).item()\n",
    "    if (y==pred) and (y==pred_adv):\n",
    "        conf_ma[0,0] +=1\n",
    "    elif (y==pred) and (y!=pred_adv):\n",
    "        conf_ma[0,1] +=1\n",
    "    elif (y!=pred) and (y==pred_adv):\n",
    "        conf_ma[1, 0] += 1\n",
    "    else:\n",
    "        conf_ma[1, 1] += 1\n",
    "    \n",
    "print(conf_ma)"
   ]
  },
  {
   "cell_type": "markdown",
   "metadata": {},
   "source": [
    "## 3. Make sure pertubations only are in epsilon norm range"
   ]
  },
  {
   "cell_type": "code",
   "execution_count": 41,
   "metadata": {},
   "outputs": [
    {
     "name": "stdout",
     "output_type": "stream",
     "text": [
      "Files already downloaded and verified\n",
      "Files already downloaded and verified\n"
     ]
    }
   ],
   "source": [
    "BS = 64\n",
    "data = get_cifar10_data(BS, img_size=32, subsample=True)\n",
    "classes = data[\"classes\"]\n",
    "_, test_loader = data[\"test\"]"
   ]
  },
  {
   "cell_type": "code",
   "execution_count": 42,
   "metadata": {},
   "outputs": [
    {
     "name": "stderr",
     "output_type": "stream",
     "text": [
      "100%|██████████| 40/40 [00:05<00:00,  7.19it/s]\n",
      "100%|██████████| 40/40 [00:05<00:00,  7.27it/s]\n",
      "100%|██████████| 40/40 [00:05<00:00,  7.22it/s]\n",
      "100%|██████████| 3/3 [00:16<00:00,  5.54s/it]"
     ]
    },
    {
     "name": "stdout",
     "output_type": "stream",
     "text": [
      "All modifications are within maximum allowed norm.\n"
     ]
    },
    {
     "name": "stderr",
     "output_type": "stream",
     "text": [
      "\n"
     ]
    }
   ],
   "source": [
    "for eps in tqdm.tqdm([0.5, 1, 5]):\n",
    "    for batch in tqdm.tqdm(test_loader):\n",
    "        x = batch[0]\n",
    "        if x.shape[0] == BS: # skip last incomplete batch\n",
    "            adv_batch = adv_attack(batch, model, nn.CrossEntropyLoss(), target=torch.randint(low=0, high=5, size=(64,)).type(torch.LongTensor) , epsilon=eps, steps=7, alpha=0.1)\n",
    "            assert(torch.all((x-adv_batch[0]).reshape(x.shape[0],-1).norm(p=2, dim=-1) <= eps + 1e-6))\n",
    "print(\"All modifications are within maximum allowed norm.\")"
   ]
  },
  {
   "cell_type": "code",
   "execution_count": null,
   "metadata": {},
   "outputs": [],
   "source": []
  }
 ],
 "metadata": {
  "kernelspec": {
   "display_name": "practical_work",
   "language": "python",
   "name": "python3"
  },
  "language_info": {
   "codemirror_mode": {
    "name": "ipython",
    "version": 3
   },
   "file_extension": ".py",
   "mimetype": "text/x-python",
   "name": "python",
   "nbconvert_exporter": "python",
   "pygments_lexer": "ipython3",
   "version": "3.11.5"
  }
 },
 "nbformat": 4,
 "nbformat_minor": 2
}
