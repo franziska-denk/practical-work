{
 "cells": [
  {
   "cell_type": "markdown",
   "metadata": {},
   "source": [
    "# 01 - Perform experiments"
   ]
  },
  {
   "cell_type": "markdown",
   "metadata": {},
   "source": [
    "Before running this notebook, run:\n",
    "\n",
    "```conda create --name practical_work --file requirements.txt```\n",
    "\n",
    "Then everything is set and the next cell can be executed, which will perform all experiments:\n",
    "1. standard training on standard dataset\n",
    "2. robust training on standard dataset\n",
    "3. create Dr, Dnr, Ddet and Drand (as well additional Ddet and Drand with a robust model as control set)\n",
    "4. standard training on all six modified datasetes"
   ]
  },
  {
   "cell_type": "code",
   "execution_count": null,
   "metadata": {},
   "outputs": [],
   "source": [
    "! ./scripts/experiment.bat"
   ]
  },
  {
   "cell_type": "markdown",
   "metadata": {},
   "source": [
    "In the notebook `02-evaluate.ipynb`, the models created in the experiments above can be evaluated."
   ]
  }
 ],
 "metadata": {
  "language_info": {
   "name": "python"
  }
 },
 "nbformat": 4,
 "nbformat_minor": 2
}
